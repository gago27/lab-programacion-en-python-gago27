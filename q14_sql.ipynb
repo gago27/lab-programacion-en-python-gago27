{
  "nbformat": 4,
  "nbformat_minor": 0,
  "metadata": {
    "colab": {
      "name": "q14.sql",
      "version": "0.3.2",
      "provenance": [],
      "include_colab_link": true
    },
    "kernelspec": {
      "name": "python3",
      "display_name": "Python 3"
    }
  },
  "cells": [
    {
      "cell_type": "markdown",
      "metadata": {
        "id": "view-in-github",
        "colab_type": "text"
      },
      "source": [
        "<a href=\"https://colab.research.google.com/github/gago27/lab-programacion-en-python-gago27/blob/master/q14_sql.ipynb\" target=\"_parent\"><img src=\"https://colab.research.google.com/assets/colab-badge.svg\" alt=\"Open In Colab\"/></a>"
      ]
    },
    {
      "cell_type": "code",
      "metadata": {
        "id": "UZpadgOoiyat",
        "colab_type": "code",
        "colab": {}
      },
      "source": [
        "## \n",
        "## Escriba una consulta que retorne por cada letra\n",
        "## de la columna K0, el valor promedio de la columna c12\n",
        "## en la tabla tbl1, para aquellos registros con c13 mayor\n",
        "## a 400.\n",
        "##\n",
        "import sqlite3\n",
        "import glob\n",
        "\n",
        "filenames = glob.glob(\"tbl1.csv\")\n",
        "conn = sqlite3.connect(\":memory:\")\n",
        "cur = conn.cursor()\n",
        "\n",
        "tabla = \"\"\"\n",
        "CREATE TABLE tbl1(\n",
        "  K0 CHAR(1),\n",
        "  K1 INT,\n",
        "  c12 FLOAT,\n",
        "  c13 INT,\n",
        "  c14 DATE,\n",
        "  c15 FLOAT,\n",
        "  c16 CHAR(4)\n",
        "  );\n",
        "\"\"\"\n",
        "cur.execute(tabla).fetchall()\n",
        "\n",
        "tabla1 = open(\"tbl1.csv\", \"rt\", encoding=\"utf-8\").readlines()\n",
        "tabla2 = [line[:-1] for line in tabla1[:-1]]\n",
        "tabla2.append(tabla1[-1])\n",
        "tabla1=tabla2\n",
        "tabla1 = [line.split(\",\") for line in tabla1]\n",
        "tabla1 = [tuple(line) for line in tabla1]\n",
        "\n",
        "cur.executemany(\"INSERT INTO tbl1 VALUES(?,?,?,?,?,?,?)\", tabla1).fetchall()\n",
        "cur.execute(\"SELECT K0, AVG(c12) FROM tbl1 WHERE c13 > '400' GROUP BY K0 \").fetchall()"
      ],
      "execution_count": 0,
      "outputs": []
    }
  ]
}